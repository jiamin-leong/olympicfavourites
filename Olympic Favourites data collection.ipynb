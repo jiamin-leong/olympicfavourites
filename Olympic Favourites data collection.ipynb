{
 "cells": [
  {
   "cell_type": "code",
   "execution_count": 142,
   "metadata": {},
   "outputs": [],
   "source": [
    "import pandas as pd\n",
    "from bs4 import BeautifulSoup\n",
    "import requests\n",
    "from selenium import webdriver\n",
    "import time\n",
    "import uuid\n",
    "import datetime as dt\n",
    "\n",
    "from selenium.webdriver.common.keys import Keys"
   ]
  },
  {
   "cell_type": "code",
   "execution_count": 3,
   "metadata": {},
   "outputs": [],
   "source": [
    "DRIVER_PATH = '/Users/leongjiams/Documents/chromedriver'\n",
    "driver = webdriver.Chrome(executable_path=DRIVER_PATH)\n",
    "url='https://www.youtube.com/c/sporteverywhere20/community'\n",
    "\n",
    "\n",
    "driver.get(url)"
   ]
  },
  {
   "cell_type": "code",
   "execution_count": 9,
   "metadata": {},
   "outputs": [],
   "source": [
    "urls=driver.find_elements_by_css_selector('.yt-simple-endpoint.style-scope.ytd-button-renderer')"
   ]
  },
  {
   "cell_type": "code",
   "execution_count": 10,
   "metadata": {},
   "outputs": [],
   "source": [
    "url_list = [i.get_attribute('href') for i in urls]"
   ]
  },
  {
   "cell_type": "code",
   "execution_count": 11,
   "metadata": {},
   "outputs": [
    {
     "data": {
      "text/plain": [
       "['https://www.youtube.com/post/Ugws-LTpmCAo93tBVQF4AaABCQ',\n",
       " 'https://www.youtube.com/post/Ugxpr8dYg8Jb78K7IFF4AaABCQ',\n",
       " 'https://www.youtube.com/post/UgwPq5Sg6P7ncQz5SCJ4AaABCQ',\n",
       " 'https://www.youtube.com/post/UgyLrlhAZguOsdfXNlF4AaABCQ',\n",
       " 'https://www.youtube.com/post/UgyYa8gswyZDYW0E2iJ4AaABCQ',\n",
       " 'https://www.youtube.com/post/UgzKpXgQ2MubvDNGZtV4AaABCQ',\n",
       " 'https://www.youtube.com/post/Ugxtkwg68iA4EV3ZLQZ4AaABCQ',\n",
       " 'https://www.youtube.com/post/UgztpAi334lOeDl6Dox4AaABCQ',\n",
       " 'https://www.youtube.com/post/UgxVXbye7rjI9Tmkbyd4AaABCQ',\n",
       " 'https://www.youtube.com/post/Ugxk9k1mIm5zu2fmGYR4AaABCQ',\n",
       " 'https://www.youtube.com/post/Ugzr4cJ_2nBHLhsyMP14AaABCQ',\n",
       " 'https://www.youtube.com/post/UgzGEUvtn6qhrEGX3Ot4AaABCQ',\n",
       " 'https://www.youtube.com/post/UgwRf3a8HYpFpmopzj94AaABCQ',\n",
       " 'https://www.youtube.com/post/UgzyE5DQf5HtrRVSM5B4AaABCQ',\n",
       " 'https://www.youtube.com/post/Ugysi2vSLlD6zvrbed54AaABCQ',\n",
       " 'https://www.youtube.com/post/UgxFNIzJk_7YUTZJtKV4AaABCQ',\n",
       " 'https://www.youtube.com/post/UgwQAorEaEt17J74KnZ4AaABCQ',\n",
       " 'https://www.youtube.com/post/UgxGlyPv1xVaYIpl3UN4AaABCQ',\n",
       " 'https://www.youtube.com/post/UgxdlCEPtFkBv_MCJUx4AaABCQ',\n",
       " 'https://www.youtube.com/post/UgzJ2aKE_8LWkTQ8Yc94AaABCQ',\n",
       " 'https://www.youtube.com/post/UgzP6Y4tK4tFzvUGHfF4AaABCQ',\n",
       " 'https://www.youtube.com/post/UgxjtdjFJiAfPOrR8dR4AaABCQ',\n",
       " 'https://www.youtube.com/post/Ugz46EuIyyFA1ofOi-N4AaABCQ',\n",
       " 'https://www.youtube.com/post/Ugyp6NDha8OsIkiU3ih4AaABCQ',\n",
       " 'https://www.youtube.com/post/UgxcpUCmJX5_5JAT_yN4AaABCQ',\n",
       " 'https://www.youtube.com/post/Ugz29qaOl5y_vY7Hq3d4AaABCQ',\n",
       " 'https://www.youtube.com/post/UgyaV49ugFzKNt-WzXB4AaABCQ',\n",
       " 'https://www.youtube.com/post/UgzHQh9vhcd2gVewZLN4AaABCQ',\n",
       " 'https://www.youtube.com/post/UgyRsUoxd5seycnz6ih4AaABCQ',\n",
       " 'https://www.youtube.com/post/UgxT_DJKM96zFWk6cBx4AaABCQ']"
      ]
     },
     "execution_count": 11,
     "metadata": {},
     "output_type": "execute_result"
    }
   ],
   "source": [
    "urll = [i for i in url_list if i is not None and i.find('post')][1:]\n",
    "urll"
   ]
  },
  {
   "cell_type": "code",
   "execution_count": 83,
   "metadata": {},
   "outputs": [
    {
     "data": {
      "text/plain": [
       "30"
      ]
     },
     "execution_count": 83,
     "metadata": {},
     "output_type": "execute_result"
    }
   ],
   "source": [
    "len(urll)"
   ]
  },
  {
   "cell_type": "code",
   "execution_count": 12,
   "metadata": {},
   "outputs": [
    {
     "data": {
      "text/plain": [
       "'https://www.youtube.com/post/Ugws-LTpmCAo93tBVQF4AaABCQ'"
      ]
     },
     "execution_count": 12,
     "metadata": {},
     "output_type": "execute_result"
    }
   ],
   "source": [
    "urll[0]"
   ]
  },
  {
   "cell_type": "code",
   "execution_count": 145,
   "metadata": {},
   "outputs": [],
   "source": [
    "def get_comments(url):\n",
    "    DRIVER_PATH = '/Users/leongjiams/Documents/chromedriver'\n",
    "    driver = webdriver.Chrome(executable_path=DRIVER_PATH)\n",
    "    driver.get(url)\n",
    "\n",
    "    while(True):\n",
    "        SCROLL_PAUSE_TIME = 5\n",
    "        height = driver.execute_script(\"return document.documentElement.scrollHeight\")\n",
    "        time.sleep(SCROLL_PAUSE_TIME)\n",
    "        driver.find_element_by_tag_name('body').send_keys(Keys.END)\n",
    "        document_height_after = driver.execute_script(\"return document.documentElement.scrollHeight\")\n",
    "        \n",
    "        \n",
    "        if document_height_after == height:\n",
    "            i =0\n",
    "            while i <10:\n",
    "                i += 1\n",
    "                \n",
    "                comment_elements=driver.find_elements_by_id('content-text')\n",
    "                author_elements=driver.find_elements_by_id('author-text')\n",
    "                time_post=driver.find_elements_by_id('published-time-text')\n",
    "                time_comments=driver.find_elements_by_css_selector('.published-time-text.above-comment.style-scope.ytd-comment-renderer')\n",
    "                time_elements=time_post + time_comments\n",
    "                date=dt.datetime.today().strftime(\"%Y-%m-%d\")\n",
    "                \n",
    "                dic={}\n",
    "                for count, comment_element in enumerate(comment_elements):\n",
    "                    uniqueid=str(uuid.uuid4())\n",
    "                    dic[uniqueid]={}\n",
    "                    dic[uniqueid]['comment']=comment_element.text\n",
    "                    dic[uniqueid]['author']=author_elements[count].text\n",
    "                    dic[uniqueid]['relative_time_posted']=time_elements[count].text\n",
    "                    dic[uniqueid]['url']=url\n",
    "                    dic[uniqueid]['ingestion_date']=date\n",
    "\n",
    "                    df = pd.DataFrame.from_dict(dic, 'index').reset_index()\n",
    "                comments_full=pd.DataFrame(data=df).drop_duplicates()\n",
    "                comments_full.to_csv(f'communityPost{index}_expand.csv')\n",
    "\n",
    "            break"
   ]
  },
  {
   "cell_type": "code",
   "execution_count": 149,
   "metadata": {},
   "outputs": [],
   "source": [
    "for index in range(0,20):\n",
    "    url = urll[index]\n",
    "\n",
    "    get_comments(url)"
   ]
  },
  {
   "cell_type": "code",
   "execution_count": null,
   "metadata": {},
   "outputs": [],
   "source": []
  }
 ],
 "metadata": {
  "kernelspec": {
   "display_name": "Python 3",
   "language": "python",
   "name": "python3"
  },
  "language_info": {
   "codemirror_mode": {
    "name": "ipython",
    "version": 3
   },
   "file_extension": ".py",
   "mimetype": "text/x-python",
   "name": "python",
   "nbconvert_exporter": "python",
   "pygments_lexer": "ipython3",
   "version": "3.8.3"
  }
 },
 "nbformat": 4,
 "nbformat_minor": 4
}
