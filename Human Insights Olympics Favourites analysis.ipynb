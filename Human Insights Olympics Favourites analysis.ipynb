{
 "cells": [
  {
   "cell_type": "markdown",
   "metadata": {},
   "source": [
    "# Human Insights from Olympics - Elite Gymnastics\n",
    "\n",
    "Each of the beautiful gymnasts vying for the spotlight, who succeeded and who exceeded expectations?"
   ]
  },
  {
   "cell_type": "code",
   "execution_count": 1,
   "metadata": {},
   "outputs": [],
   "source": [
    "import pandas as pd\n",
    "from datetime import datetime, timedelta\n",
    "import re\n",
    "\n",
    "import seaborn as sns\n",
    "import matplotlib.pyplot as plt\n",
    "\n",
    "import spacy\n",
    "from spacy.tokens import Span\n",
    "from spacy import displacy"
   ]
  },
  {
   "cell_type": "markdown",
   "metadata": {},
   "source": [
    "## Consolidating data from sporteverywhere Youtube Community Page "
   ]
  },
  {
   "cell_type": "code",
   "execution_count": 2,
   "metadata": {},
   "outputs": [],
   "source": [
    "df=pd.DataFrame()\n",
    "for index in range(0,20):\n",
    "    minidf = pd.read_csv(f'communityPost{index}_expand.csv')\n",
    "    df=df.append(minidf)"
   ]
  },
  {
   "cell_type": "code",
   "execution_count": 3,
   "metadata": {},
   "outputs": [],
   "source": [
    "df.columns=['comment_rank','uuid','comment','author','relative_time_posted','post_url','ingestion_date']"
   ]
  },
  {
   "cell_type": "code",
   "execution_count": 4,
   "metadata": {},
   "outputs": [],
   "source": [
    "df.relative_time_posted=df.relative_time_posted.apply(lambda x: x.replace(' (edited)',''))"
   ]
  },
  {
   "cell_type": "code",
   "execution_count": 5,
   "metadata": {},
   "outputs": [],
   "source": [
    "def derive_post_date(i):\n",
    "    num=int(re.findall(r'\\d+',i)[0])\n",
    "    ingestion_date=datetime.strptime('2021-08-10', '%Y-%m-%d').date()\n",
    "    if 'minute' in i:\n",
    "        d='2021-08-10'\n",
    "    elif 'hour' in i and num<12:\n",
    "        d='2021-08-10'\n",
    "    elif 'hour' in i and num>=12:\n",
    "        d=str(ingestion_date - timedelta(days=1))\n",
    "    elif 'day' in i:\n",
    "        d=str(ingestion_date - timedelta(days=num))\n",
    "    elif 'week' in i:\n",
    "        d=str(ingestion_date - timedelta(days=7*num))\n",
    "    return d"
   ]
  },
  {
   "cell_type": "code",
   "execution_count": 6,
   "metadata": {},
   "outputs": [],
   "source": [
    "tf=df.copy()"
   ]
  },
  {
   "cell_type": "code",
   "execution_count": 7,
   "metadata": {},
   "outputs": [],
   "source": [
    "tf['post_date']=tf.relative_time_posted.apply(lambda x: derive_post_date(x))"
   ]
  },
  {
   "cell_type": "code",
   "execution_count": 8,
   "metadata": {},
   "outputs": [
    {
     "data": {
      "text/html": [
       "<div>\n",
       "<style scoped>\n",
       "    .dataframe tbody tr th:only-of-type {\n",
       "        vertical-align: middle;\n",
       "    }\n",
       "\n",
       "    .dataframe tbody tr th {\n",
       "        vertical-align: top;\n",
       "    }\n",
       "\n",
       "    .dataframe thead th {\n",
       "        text-align: right;\n",
       "    }\n",
       "</style>\n",
       "<table border=\"1\" class=\"dataframe\">\n",
       "  <thead>\n",
       "    <tr style=\"text-align: right;\">\n",
       "      <th></th>\n",
       "      <th>comment_rank</th>\n",
       "      <th>uuid</th>\n",
       "      <th>comment</th>\n",
       "      <th>author</th>\n",
       "      <th>relative_time_posted</th>\n",
       "      <th>post_url</th>\n",
       "      <th>ingestion_date</th>\n",
       "      <th>post_date</th>\n",
       "    </tr>\n",
       "  </thead>\n",
       "  <tbody>\n",
       "    <tr>\n",
       "      <th>0</th>\n",
       "      <td>0</td>\n",
       "      <td>1e7c4600-5f6b-46fe-9bdd-64e88c4fd3aa</td>\n",
       "      <td>Which of the following skills would you like t...</td>\n",
       "      <td>sporteverywhere</td>\n",
       "      <td>19 hours ago</td>\n",
       "      <td>https://www.youtube.com/post/Ugws-LTpmCAo93tBV...</td>\n",
       "      <td>2021-08-10</td>\n",
       "      <td>2021-08-09</td>\n",
       "    </tr>\n",
       "    <tr>\n",
       "      <th>1</th>\n",
       "      <td>1</td>\n",
       "      <td>844341d6-4ff4-4112-be81-402cdd877599</td>\n",
       "      <td>The Dos Santos II, when done properly, (like C...</td>\n",
       "      <td>Vladymir Dolia</td>\n",
       "      <td>19 hours ago</td>\n",
       "      <td>https://www.youtube.com/post/Ugws-LTpmCAo93tBV...</td>\n",
       "      <td>2021-08-10</td>\n",
       "      <td>2021-08-09</td>\n",
       "    </tr>\n",
       "    <tr>\n",
       "      <th>2</th>\n",
       "      <td>2</td>\n",
       "      <td>d47408d6-4d16-4cb6-b280-89a7bfbbe823</td>\n",
       "      <td>I want to see Produnova done more, but it's ju...</td>\n",
       "      <td>Kelly Stout</td>\n",
       "      <td>17 hours ago</td>\n",
       "      <td>https://www.youtube.com/post/Ugws-LTpmCAo93tBV...</td>\n",
       "      <td>2021-08-10</td>\n",
       "      <td>2021-08-09</td>\n",
       "    </tr>\n",
       "    <tr>\n",
       "      <th>3</th>\n",
       "      <td>3</td>\n",
       "      <td>fa13a021-91cb-4a07-8f9e-34f275111f3b</td>\n",
       "      <td>Dos Santos II. Ruedas and Rulfovas, they’ve be...</td>\n",
       "      <td>L T</td>\n",
       "      <td>18 hours ago</td>\n",
       "      <td>https://www.youtube.com/post/Ugws-LTpmCAo93tBV...</td>\n",
       "      <td>2021-08-10</td>\n",
       "      <td>2021-08-09</td>\n",
       "    </tr>\n",
       "    <tr>\n",
       "      <th>4</th>\n",
       "      <td>4</td>\n",
       "      <td>b2591449-cd71-499f-8cca-4030b74c8a30</td>\n",
       "      <td>I'd love to see harder front tumbling to fulfi...</td>\n",
       "      <td>Aleksandra Prawda</td>\n",
       "      <td>17 hours ago</td>\n",
       "      <td>https://www.youtube.com/post/Ugws-LTpmCAo93tBV...</td>\n",
       "      <td>2021-08-10</td>\n",
       "      <td>2021-08-09</td>\n",
       "    </tr>\n",
       "  </tbody>\n",
       "</table>\n",
       "</div>"
      ],
      "text/plain": [
       "   comment_rank                                  uuid  \\\n",
       "0             0  1e7c4600-5f6b-46fe-9bdd-64e88c4fd3aa   \n",
       "1             1  844341d6-4ff4-4112-be81-402cdd877599   \n",
       "2             2  d47408d6-4d16-4cb6-b280-89a7bfbbe823   \n",
       "3             3  fa13a021-91cb-4a07-8f9e-34f275111f3b   \n",
       "4             4  b2591449-cd71-499f-8cca-4030b74c8a30   \n",
       "\n",
       "                                             comment             author  \\\n",
       "0  Which of the following skills would you like t...    sporteverywhere   \n",
       "1  The Dos Santos II, when done properly, (like C...     Vladymir Dolia   \n",
       "2  I want to see Produnova done more, but it's ju...        Kelly Stout   \n",
       "3  Dos Santos II. Ruedas and Rulfovas, they’ve be...                L T   \n",
       "4  I'd love to see harder front tumbling to fulfi...  Aleksandra Prawda   \n",
       "\n",
       "  relative_time_posted                                           post_url  \\\n",
       "0         19 hours ago  https://www.youtube.com/post/Ugws-LTpmCAo93tBV...   \n",
       "1         19 hours ago  https://www.youtube.com/post/Ugws-LTpmCAo93tBV...   \n",
       "2         17 hours ago  https://www.youtube.com/post/Ugws-LTpmCAo93tBV...   \n",
       "3         18 hours ago  https://www.youtube.com/post/Ugws-LTpmCAo93tBV...   \n",
       "4         17 hours ago  https://www.youtube.com/post/Ugws-LTpmCAo93tBV...   \n",
       "\n",
       "  ingestion_date   post_date  \n",
       "0     2021-08-10  2021-08-09  \n",
       "1     2021-08-10  2021-08-09  \n",
       "2     2021-08-10  2021-08-09  \n",
       "3     2021-08-10  2021-08-09  \n",
       "4     2021-08-10  2021-08-09  "
      ]
     },
     "execution_count": 8,
     "metadata": {},
     "output_type": "execute_result"
    }
   ],
   "source": [
    "tf.head()"
   ]
  },
  {
   "cell_type": "markdown",
   "metadata": {},
   "source": [
    "## Data Overview"
   ]
  },
  {
   "cell_type": "code",
   "execution_count": 9,
   "metadata": {},
   "outputs": [
    {
     "data": {
      "text/plain": [
       "(1928, 7)"
      ]
     },
     "execution_count": 9,
     "metadata": {},
     "output_type": "execute_result"
    }
   ],
   "source": [
    "df.shape"
   ]
  },
  {
   "cell_type": "code",
   "execution_count": 10,
   "metadata": {},
   "outputs": [
    {
     "data": {
      "text/html": [
       "<div>\n",
       "<style scoped>\n",
       "    .dataframe tbody tr th:only-of-type {\n",
       "        vertical-align: middle;\n",
       "    }\n",
       "\n",
       "    .dataframe tbody tr th {\n",
       "        vertical-align: top;\n",
       "    }\n",
       "\n",
       "    .dataframe thead th {\n",
       "        text-align: right;\n",
       "    }\n",
       "</style>\n",
       "<table border=\"1\" class=\"dataframe\">\n",
       "  <thead>\n",
       "    <tr style=\"text-align: right;\">\n",
       "      <th></th>\n",
       "      <th>index</th>\n",
       "      <th>post_date</th>\n",
       "    </tr>\n",
       "  </thead>\n",
       "  <tbody>\n",
       "    <tr>\n",
       "      <th>9</th>\n",
       "      <td>2021-07-20</td>\n",
       "      <td>1</td>\n",
       "    </tr>\n",
       "    <tr>\n",
       "      <th>5</th>\n",
       "      <td>2021-07-27</td>\n",
       "      <td>66</td>\n",
       "    </tr>\n",
       "    <tr>\n",
       "      <th>0</th>\n",
       "      <td>2021-08-03</td>\n",
       "      <td>1114</td>\n",
       "    </tr>\n",
       "    <tr>\n",
       "      <th>2</th>\n",
       "      <td>2021-08-04</td>\n",
       "      <td>218</td>\n",
       "    </tr>\n",
       "    <tr>\n",
       "      <th>4</th>\n",
       "      <td>2021-08-05</td>\n",
       "      <td>76</td>\n",
       "    </tr>\n",
       "    <tr>\n",
       "      <th>3</th>\n",
       "      <td>2021-08-06</td>\n",
       "      <td>121</td>\n",
       "    </tr>\n",
       "    <tr>\n",
       "      <th>6</th>\n",
       "      <td>2021-08-07</td>\n",
       "      <td>54</td>\n",
       "    </tr>\n",
       "    <tr>\n",
       "      <th>7</th>\n",
       "      <td>2021-08-08</td>\n",
       "      <td>32</td>\n",
       "    </tr>\n",
       "    <tr>\n",
       "      <th>1</th>\n",
       "      <td>2021-08-09</td>\n",
       "      <td>223</td>\n",
       "    </tr>\n",
       "    <tr>\n",
       "      <th>8</th>\n",
       "      <td>2021-08-10</td>\n",
       "      <td>23</td>\n",
       "    </tr>\n",
       "  </tbody>\n",
       "</table>\n",
       "</div>"
      ],
      "text/plain": [
       "        index  post_date\n",
       "9  2021-07-20          1\n",
       "5  2021-07-27         66\n",
       "0  2021-08-03       1114\n",
       "2  2021-08-04        218\n",
       "4  2021-08-05         76\n",
       "3  2021-08-06        121\n",
       "6  2021-08-07         54\n",
       "7  2021-08-08         32\n",
       "1  2021-08-09        223\n",
       "8  2021-08-10         23"
      ]
     },
     "execution_count": 10,
     "metadata": {},
     "output_type": "execute_result"
    }
   ],
   "source": [
    "tf.post_date.value_counts().reset_index().sort_values(by='index')"
   ]
  },
  {
   "cell_type": "markdown",
   "metadata": {},
   "source": [
    "## Using Spacy to determine key persons and events entities\n",
    "\n",
    "PERSON: Identifies people, including fictional"
   ]
  },
  {
   "cell_type": "code",
   "execution_count": 12,
   "metadata": {},
   "outputs": [],
   "source": [
    "import en_core_web_sm\n",
    "nlp = en_core_web_sm.load()"
   ]
  },
  {
   "cell_type": "code",
   "execution_count": 65,
   "metadata": {},
   "outputs": [
    {
     "name": "stderr",
     "output_type": "stream",
     "text": [
      "/Users/leongjiams/opt/anaconda3/lib/python3.8/site-packages/spacy/displacy/__init__.py:94: UserWarning: [W011] It looks like you're calling displacy.serve from within a Jupyter notebook or a similar environment. This likely means you're already running a local web server, so there's no need to make displaCy start another one. Instead, you should be able to replace displacy.serve with displacy.render to show the visualization.\n",
      "  warnings.warn(Warnings.W011)\n"
     ]
    },
    {
     "data": {
      "text/html": [
       "<span class=\"tex2jax_ignore\"><!DOCTYPE html>\n",
       "<html lang=\"en\">\n",
       "    <head>\n",
       "        <title>displaCy</title>\n",
       "    </head>\n",
       "\n",
       "    <body style=\"font-size: 16px; font-family: -apple-system, BlinkMacSystemFont, 'Segoe UI', Helvetica, Arial, sans-serif, 'Apple Color Emoji', 'Segoe UI Emoji', 'Segoe UI Symbol'; padding: 4rem 2rem; direction: ltr\">\n",
       "<figure style=\"margin-bottom: 6rem\">\n",
       "<div class=\"entities\" style=\"line-height: 2.5; direction: ltr\">Most Decorated Female Gymnasts of \n",
       "<mark class=\"entity\" style=\"background: #ffeb80; padding: 0.45em 0.6em; margin: 0 0.25em; line-height: 1; border-radius: 0.35em;\">\n",
       "    the Tokyo Games\n",
       "    <span style=\"font-size: 0.8em; font-weight: bold; line-height: 1; border-radius: 0.35em; text-transform: uppercase; vertical-align: middle; margin-left: 0.5rem\">EVENT</span>\n",
       "</mark>\n",
       ":</br></br>\n",
       "<mark class=\"entity\" style=\"background: #e4e7d2; padding: 0.45em 0.6em; margin: 0 0.25em; line-height: 1; border-radius: 0.35em;\">\n",
       "    3\n",
       "    <span style=\"font-size: 0.8em; font-weight: bold; line-height: 1; border-radius: 0.35em; text-transform: uppercase; vertical-align: middle; margin-left: 0.5rem\">CARDINAL</span>\n",
       "</mark>\n",
       " medals:</br>\n",
       "<mark class=\"entity\" style=\"background: #aa9cfc; padding: 0.45em 0.6em; margin: 0 0.25em; line-height: 1; border-radius: 0.35em;\">\n",
       "    Sunisa Lee\n",
       "    <span style=\"font-size: 0.8em; font-weight: bold; line-height: 1; border-radius: 0.35em; text-transform: uppercase; vertical-align: middle; margin-left: 0.5rem\">PERSON</span>\n",
       "</mark>\n",
       " 🥇🥈🥉</br>\n",
       "<mark class=\"entity\" style=\"background: #aa9cfc; padding: 0.45em 0.6em; margin: 0 0.25em; line-height: 1; border-radius: 0.35em;\">\n",
       "    Angelina Melnikova\n",
       "    <span style=\"font-size: 0.8em; font-weight: bold; line-height: 1; border-radius: 0.35em; text-transform: uppercase; vertical-align: middle; margin-left: 0.5rem\">PERSON</span>\n",
       "</mark>\n",
       " 🥇\n",
       "<mark class=\"entity\" style=\"background: #aa9cfc; padding: 0.45em 0.6em; margin: 0 0.25em; line-height: 1; border-radius: 0.35em;\">\n",
       "    🥉🥉\n",
       "    <span style=\"font-size: 0.8em; font-weight: bold; line-height: 1; border-radius: 0.35em; text-transform: uppercase; vertical-align: middle; margin-left: 0.5rem\">PERSON</span>\n",
       "</mark>\n",
       "</br></br>\n",
       "<mark class=\"entity\" style=\"background: #e4e7d2; padding: 0.45em 0.6em; margin: 0 0.25em; line-height: 1; border-radius: 0.35em;\">\n",
       "    2\n",
       "    <span style=\"font-size: 0.8em; font-weight: bold; line-height: 1; border-radius: 0.35em; text-transform: uppercase; vertical-align: middle; margin-left: 0.5rem\">CARDINAL</span>\n",
       "</mark>\n",
       " medals:</br>\n",
       "<mark class=\"entity\" style=\"background: #aa9cfc; padding: 0.45em 0.6em; margin: 0 0.25em; line-height: 1; border-radius: 0.35em;\">\n",
       "    Rebeca Andrade\n",
       "    <span style=\"font-size: 0.8em; font-weight: bold; line-height: 1; border-radius: 0.35em; text-transform: uppercase; vertical-align: middle; margin-left: 0.5rem\">PERSON</span>\n",
       "</mark>\n",
       " 🥇🥈</br>\n",
       "<mark class=\"entity\" style=\"background: #7aecec; padding: 0.45em 0.6em; margin: 0 0.25em; line-height: 1; border-radius: 0.35em;\">\n",
       "    Simone Biles\n",
       "    <span style=\"font-size: 0.8em; font-weight: bold; line-height: 1; border-radius: 0.35em; text-transform: uppercase; vertical-align: middle; margin-left: 0.5rem\">ORG</span>\n",
       "</mark>\n",
       " 🥈🥉</div>\n",
       "</figure>\n",
       "</body>\n",
       "</html></span>"
      ],
      "text/plain": [
       "<IPython.core.display.HTML object>"
      ]
     },
     "metadata": {},
     "output_type": "display_data"
    },
    {
     "name": "stdout",
     "output_type": "stream",
     "text": [
      "\n",
      "Using the 'ent' visualizer\n",
      "Serving on http://0.0.0.0:5000 ...\n",
      "\n",
      "Shutting down server on port 5000.\n"
     ]
    }
   ],
   "source": [
    "string = \"\"\"Most Decorated Female Gymnasts of the Tokyo Games:\n",
    "\n",
    "3 medals:\n",
    "Sunisa Lee 🥇🥈🥉\n",
    "Angelina Melnikova 🥇🥉🥉\n",
    "\n",
    "2 medals:\n",
    "Rebeca Andrade 🥇🥈\n",
    "Simone Biles 🥈🥉\"\"\"\n",
    "\n",
    "doc=nlp(string)\n",
    "displacy.serve(doc, style=\"ent\")"
   ]
  },
  {
   "cell_type": "code",
   "execution_count": null,
   "metadata": {},
   "outputs": [],
   "source": [
    "doc=nlp(string)\n",
    "displacy.serve(doc, style=\"ent\")"
   ]
  },
  {
   "cell_type": "code",
   "execution_count": 13,
   "metadata": {},
   "outputs": [],
   "source": [
    "def surface_entity(comments):\n",
    "    keyword=[]\n",
    "    keyword_label=[]\n",
    "    \n",
    "    for text in comments:\n",
    "        doc = nlp(text)\n",
    "        for ent in doc.ents:\n",
    "            keyword.append(ent.text)\n",
    "            keyword_label.append(ent.label_)\n",
    "\n",
    "    key=pd.DataFrame({'keyword':keyword, 'keyword_label':keyword_label})\n",
    "    return key"
   ]
  },
  {
   "cell_type": "code",
   "execution_count": 14,
   "metadata": {},
   "outputs": [],
   "source": [
    "nounsdf=surface_entity(tf.comment)"
   ]
  },
  {
   "cell_type": "code",
   "execution_count": 15,
   "metadata": {},
   "outputs": [
    {
     "data": {
      "text/html": [
       "<div>\n",
       "<style scoped>\n",
       "    .dataframe tbody tr th:only-of-type {\n",
       "        vertical-align: middle;\n",
       "    }\n",
       "\n",
       "    .dataframe tbody tr th {\n",
       "        vertical-align: top;\n",
       "    }\n",
       "\n",
       "    .dataframe thead th {\n",
       "        text-align: right;\n",
       "    }\n",
       "</style>\n",
       "<table border=\"1\" class=\"dataframe\">\n",
       "  <thead>\n",
       "    <tr style=\"text-align: right;\">\n",
       "      <th></th>\n",
       "      <th>keyword</th>\n",
       "      <th>keyword_label</th>\n",
       "    </tr>\n",
       "  </thead>\n",
       "  <tbody>\n",
       "    <tr>\n",
       "      <th>0</th>\n",
       "      <td>The Dos Santos II</td>\n",
       "      <td>PERSON</td>\n",
       "    </tr>\n",
       "    <tr>\n",
       "      <th>1</th>\n",
       "      <td>Chelsea Memmel</td>\n",
       "      <td>ORG</td>\n",
       "    </tr>\n",
       "    <tr>\n",
       "      <th>2</th>\n",
       "      <td>MAG</td>\n",
       "      <td>ORG</td>\n",
       "    </tr>\n",
       "    <tr>\n",
       "      <th>3</th>\n",
       "      <td>one</td>\n",
       "      <td>CARDINAL</td>\n",
       "    </tr>\n",
       "    <tr>\n",
       "      <th>4</th>\n",
       "      <td>Produnova</td>\n",
       "      <td>ORG</td>\n",
       "    </tr>\n",
       "    <tr>\n",
       "      <th>...</th>\n",
       "      <td>...</td>\n",
       "      <td>...</td>\n",
       "    </tr>\n",
       "    <tr>\n",
       "      <th>3256</th>\n",
       "      <td>5</td>\n",
       "      <td>CARDINAL</td>\n",
       "    </tr>\n",
       "    <tr>\n",
       "      <th>3257</th>\n",
       "      <td>BilesGoat</td>\n",
       "      <td>ORG</td>\n",
       "    </tr>\n",
       "    <tr>\n",
       "      <th>3258</th>\n",
       "      <td>5</td>\n",
       "      <td>CARDINAL</td>\n",
       "    </tr>\n",
       "    <tr>\n",
       "      <th>3259</th>\n",
       "      <td>1</td>\n",
       "      <td>CARDINAL</td>\n",
       "    </tr>\n",
       "    <tr>\n",
       "      <th>3260</th>\n",
       "      <td>2</td>\n",
       "      <td>CARDINAL</td>\n",
       "    </tr>\n",
       "  </tbody>\n",
       "</table>\n",
       "<p>3261 rows × 2 columns</p>\n",
       "</div>"
      ],
      "text/plain": [
       "                keyword keyword_label\n",
       "0     The Dos Santos II        PERSON\n",
       "1        Chelsea Memmel           ORG\n",
       "2                   MAG           ORG\n",
       "3                   one      CARDINAL\n",
       "4             Produnova           ORG\n",
       "...                 ...           ...\n",
       "3256                  5      CARDINAL\n",
       "3257          BilesGoat           ORG\n",
       "3258                  5      CARDINAL\n",
       "3259                  1      CARDINAL\n",
       "3260                  2      CARDINAL\n",
       "\n",
       "[3261 rows x 2 columns]"
      ]
     },
     "execution_count": 15,
     "metadata": {},
     "output_type": "execute_result"
    }
   ],
   "source": [
    "nounsdf"
   ]
  },
  {
   "cell_type": "code",
   "execution_count": 16,
   "metadata": {},
   "outputs": [
    {
     "data": {
      "text/plain": [
       "PERSON         1071\n",
       "ORG             549\n",
       "GPE             444\n",
       "CARDINAL        309\n",
       "DATE            277\n",
       "NORP            195\n",
       "ORDINAL         149\n",
       "EVENT           123\n",
       "PRODUCT          49\n",
       "WORK_OF_ART      16\n",
       "TIME             15\n",
       "QUANTITY         14\n",
       "PERCENT          13\n",
       "FAC              13\n",
       "LOC              12\n",
       "MONEY             9\n",
       "LAW               2\n",
       "LANGUAGE          1\n",
       "Name: keyword_label, dtype: int64"
      ]
     },
     "execution_count": 16,
     "metadata": {},
     "output_type": "execute_result"
    }
   ],
   "source": [
    "nounsdf.keyword_label.value_counts()"
   ]
  },
  {
   "cell_type": "code",
   "execution_count": 224,
   "metadata": {},
   "outputs": [
    {
     "data": {
      "text/plain": [
       "Mykayla           4\n",
       "MyKayla           2\n",
       "Human Being       1\n",
       "muh Twisties      1\n",
       "the All-Around    1\n",
       "Name: keyword, dtype: int64"
      ]
     },
     "execution_count": 224,
     "metadata": {},
     "output_type": "execute_result"
    }
   ],
   "source": [
    "nounsdf[nounsdf['keyword_label']=='PERSON'].keyword.value_counts().head(5)\n",
    "nounsdf[nounsdf['keyword_label']=='WORK_OF_ART'].keyword.value_counts().head(5)"
   ]
  },
  {
   "cell_type": "code",
   "execution_count": 192,
   "metadata": {},
   "outputs": [
    {
     "data": {
      "text/plain": [
       "Chinese      15\n",
       "Brazilian    15\n",
       "American     13\n",
       "Italian      11\n",
       "Russian      11\n",
       "Name: keyword, dtype: int64"
      ]
     },
     "execution_count": 192,
     "metadata": {},
     "output_type": "execute_result"
    }
   ],
   "source": [
    "nounsdf[nounsdf['keyword_label']=='NORP'].keyword.value_counts().head(5)"
   ]
  },
  {
   "cell_type": "markdown",
   "metadata": {},
   "source": [
    "# Using seaborn for Visualisations"
   ]
  },
  {
   "cell_type": "code",
   "execution_count": 35,
   "metadata": {
    "scrolled": false
   },
   "outputs": [
    {
     "data": {
      "text/plain": [
       "Text(0.5, 1.0, 'SHARE OF VOICE')"
      ]
     },
     "execution_count": 35,
     "metadata": {},
     "output_type": "execute_result"
    },
    {
     "data": {
      "image/png": "[encoded data removed]",
      "text/plain": [
       "<Figure size 720x1080 with 1 Axes>"
      ]
     },
     "metadata": {},
     "output_type": "display_data"
    }
   ],
   "source": [
    "personsdf=nounsdf[(nounsdf['keyword_label']=='PERSON')|(nounsdf['keyword_label']=='ORG')|(nounsdf['keyword_label']=='FAC')].keyword.str.upper().value_counts().reset_index().rename(columns={'index':'keyword','keyword':'value'}).head(50)\n",
    "\n",
    "sns.set(style=\"whitegrid\")\n",
    "plt.figure(figsize=(10,15))\n",
    "sns.barplot( personsdf.value, personsdf.keyword,orient=\"h\")\n",
    "plt.grid(False)\n",
    "sns.despine(left=True, bottom=True)\n",
    "# plt.xticks(rotation=45)\n",
    "plt.title('SHARE OF VOICE')"
   ]
  },
  {
   "cell_type": "code",
   "execution_count": 233,
   "metadata": {
    "scrolled": false
   },
   "outputs": [
    {
     "data": {
      "text/plain": [
       "Text(0.5, 1.0, 'SHARE OF COUNTRY')"
      ]
     },
     "execution_count": 233,
     "metadata": {},
     "output_type": "execute_result"
    },
    {
     "data": {
      "image/png": "[encoded data removed]",
      "text/plain": [
       "<Figure size 576x1080 with 1 Axes>"
      ]
     },
     "metadata": {},
     "output_type": "display_data"
    }
   ],
   "source": [
    "placementdf=nounsdf[(nounsdf['keyword_label']=='NORP')|(nounsdf['keyword_label']=='GPE')].keyword.str.upper().value_counts().reset_index().rename(columns={'index':'keyword','keyword':'value'}).head(40)\n",
    "\n",
    "sns.set(style=\"whitegrid\")\n",
    "plt.figure(figsize=(8,15))\n",
    "sns.barplot( placementdf.value, placementdf.keyword, orient=\"h\")\n",
    "plt.grid(False)\n",
    "sns.despine(left=True, bottom=True)\n",
    "plt.xticks(rotation=45)\n",
    "plt.title('SHARE OF COUNTRY')"
   ]
  },
  {
   "cell_type": "code",
   "execution_count": 235,
   "metadata": {},
   "outputs": [
    {
     "data": {
      "text/plain": [
       "Text(0.5, 1.0, 'SHARE OF PLACEMENT')"
      ]
     },
     "execution_count": 235,
     "metadata": {},
     "output_type": "execute_result"
    },
    {
     "data": {
      "image/png": "[encoded data removed]",
      "text/plain": [
       "<Figure size 360x576 with 1 Axes>"
      ]
     },
     "metadata": {},
     "output_type": "display_data"
    }
   ],
   "source": [
    "placementdf=nounsdf[(nounsdf['keyword_label']=='ORDINAL')].keyword.str.upper().value_counts().reset_index().rename(columns={'index':'keyword','keyword':'value'}).head(40)\n",
    "\n",
    "sns.set(style=\"whitegrid\")\n",
    "plt.figure(figsize=(5,8))\n",
    "sns.barplot( placementdf.value, placementdf.keyword, orient=\"h\")\n",
    "plt.grid(False)\n",
    "sns.despine(left=True, bottom=True)\n",
    "plt.xticks(rotation=45)\n",
    "plt.title('SHARE OF PLACEMENT')"
   ]
  },
  {
   "cell_type": "markdown",
   "metadata": {},
   "source": [
    "# Consolidating athlete's entities for Share of Voice"
   ]
  },
  {
   "cell_type": "code",
   "execution_count": 58,
   "metadata": {},
   "outputs": [
    {
     "data": {
      "text/plain": [
       "142"
      ]
     },
     "execution_count": 58,
     "metadata": {},
     "output_type": "execute_result"
    }
   ],
   "source": [
    "#Greatest of All Time1\n",
    "lt=[i for i in nounsdf['keyword'] if ('simone' in i.lower())|('biles' in i.lower())] #142\n",
    "len(lt)"
   ]
  },
  {
   "cell_type": "code",
   "execution_count": 59,
   "metadata": {},
   "outputs": [
    {
     "data": {
      "text/plain": [
       "142"
      ]
     },
     "execution_count": 59,
     "metadata": {},
     "output_type": "execute_result"
    }
   ],
   "source": [
    "#Right Place Right Time\n",
    "lt=[i for i in nounsdf['keyword'] if ('suni' in i.lower())|('lee' in i.lower())] #82\n",
    "lt=[i for i in nounsdf['keyword'] if ('jade' in i.lower())|('carey' in i.lower())] #107\n",
    "lt=[i for i in nounsdf['keyword'] if ('myk' in i.lower())|('skinner' in i.lower())] #142\n",
    "len(lt)"
   ]
  },
  {
   "cell_type": "code",
   "execution_count": 64,
   "metadata": {},
   "outputs": [
    {
     "data": {
      "text/plain": [
       "156"
      ]
     },
     "execution_count": 64,
     "metadata": {},
     "output_type": "execute_result"
    }
   ],
   "source": [
    "# Against all odds\n",
    "lt=[i for i in nounsdf['keyword'] if ('rebeca' in i.lower())|('andrade' in i.lower())] #156\n",
    "lt=[i for i in nounsdf['keyword'] if ('vanessa' in i.lower())|('ferrari' in i.lower())] #73\n",
    "lt=[i for i in nounsdf['keyword'] if ('nina' in i.lower())|('derwael' in i.lower())] #72\n",
    "len(lt)"
   ]
  }
 ],
 "metadata": {
  "kernelspec": {
   "display_name": "Python 3",
   "language": "python",
   "name": "python3"
  },
  "language_info": {
   "codemirror_mode": {
    "name": "ipython",
    "version": 3
   },
   "file_extension": ".py",
   "mimetype": "text/x-python",
   "name": "python",
   "nbconvert_exporter": "python",
   "pygments_lexer": "ipython3",
   "version": "3.8.3"
  }
 },
 "nbformat": 4,
 "nbformat_minor": 4
}
